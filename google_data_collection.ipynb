{
 "cells": [
  {
   "cell_type": "code",
   "execution_count": 1,
   "metadata": {},
   "outputs": [],
   "source": [
    "import pandas as pd\n",
    "import googlemaps\n",
    "from datetime import datetime\n",
    "import requests\n",
    "import time"
   ]
  },
  {
   "cell_type": "code",
   "execution_count": null,
   "metadata": {},
   "outputs": [],
   "source": [
    "api_key = 'YOUR API KEY'"
   ]
  },
  {
   "cell_type": "code",
   "execution_count": null,
   "metadata": {},
   "outputs": [],
   "source": [
    "def get_services(api_key, location, service_type, radius=5000):\n",
    "    gmaps = googlemaps.Client(key=api_key)\n",
    "    geocode_result = gmaps.geocode(location)\n",
    "    if not geocode_result:\n",
    "        return pd.DataFrame()  # Return an empty DataFrame if location is not found\n",
    "\n",
    "    lat = geocode_result[0][\"geometry\"][\"location\"][\"lat\"]\n",
    "    lng = geocode_result[0][\"geometry\"][\"location\"][\"lng\"]\n",
    "    \n",
    "    detailed_info = []\n",
    "\n",
    "    def fetch_places(page_token=None):\n",
    "        places_result = gmaps.places_nearby(location=(lat, lng), radius=radius, type=service_type, page_token=page_token)\n",
    "        \n",
    "        for place in places_result['results']:\n",
    "            info = {\n",
    "                'city': location.split(\",\")[0],  # Split to remove country for cleaner city names\n",
    "                'name': place['name'],\n",
    "                'formatted_address': place.get('vicinity', 'No address provided'),\n",
    "                'place_id': place['place_id'],\n",
    "                'latitude': place['geometry']['location']['lat'],\n",
    "                'longitude': place['geometry']['location']['lng'],\n",
    "                'rating': place.get('rating', 'No rating available'),\n",
    "                'user_ratings_total': place.get('user_ratings_total', 0),\n",
    "                'types': ', '.join(place.get('types', [])),\n",
    "                'business_status': place.get('business_status', 'No business status available'),\n",
    "                'permanently_closed': place.get('permanently_closed', False)\n",
    "            }\n",
    "            detailed_info.append(info)\n",
    "        \n",
    "        if 'next_page_token' in places_result:\n",
    "            time.sleep(2)  # Wait for token to become valid\n",
    "            fetch_places(places_result['next_page_token'])\n",
    "\n",
    "    fetch_places()\n",
    "    return pd.DataFrame(detailed_info)\n",
    "\n",
    "# Select the cities (Cuneo Provincia)\n",
    "test_cities = [\"Arguello\", \"Barge\", \"Battifollo\", \"Bellino\", \"Bergolo\",\n",
    "    \"Bonvicino\", \"Bosia\", \"Bossolasco\", \"Briga Alta\", \"Brossasco\", \"Camerana\", \"Canosio\",\n",
    "    \"Caprauna\", \"Cartignano\", \"Casteldelfino\", \"Castelletto Uzzone\", \"Castelmagno\",\n",
    "    \"Castelnuovo di Ceva\", \"Castiglione Tinella\", \"Castino\", \"Celle di Macra\", \"Cerretto Langhe\",\n",
    "    \"Cissone\", \"Cortemilia\", \"Cossano Belbo\", \"Cravanzana\", \"Crissolo\", \"Demonte\",\n",
    "    \"Elva\", \"Entracque\", \"Feisoglio\", \"Frassino\", \"Garessio\", \"Gorzegno\", \"Gottasecca\",\n",
    "    \"Igliano\", \"Isasca\", \"Levice\", \"Limone Piemonte\", \"Macra\", \"Marmora\", \"Melle\",\n",
    "    \"Mombarcaro\", \"Monesiglio\", \"Montà\", \"Montemale di Cuneo\", \"Montezemolo\",\n",
    "    \"Murazzano\", \"Niella Belbo\", \"Oncino\", \"Ormea\", \"Ostana\", \"Paesana\", \"Paroldo\",\n",
    "    \"Perletto\", \"Perlo\", \"Pezzolo Valle Uzzone\", \"Pietraporzio\", \"Pontechianale\",\n",
    "    \"Pradleves\", \"Prazzo\", \"Priola\", \"Prunetto\", \"Rifreddo\", \"Roccabruna\", \"Rocchetta Belbo\",\n",
    "    \"Saliceto\", \"Sambuco\", \"Sampeyre\", \"San Benedetto Belbo\", \"San Damiano Macra\",\n",
    "    \"Sanfront\", \"Santo Stefano Belbo\", \"Serravalle Langhe\", \"Somano\", \"Stroppo\",\n",
    "    \"Torre Bormida\", \"Torresina\", \"Vinadio\", \"Viola\"]\n",
    "\n",
    "# API Key and service type\n",
    "service_type = 'establishment'\n",
    "\n",
    "# Initialize a DataFrame to store all results\n",
    "test_services = pd.DataFrame()\n",
    "\n",
    "# Loop through each test city and gather services\n",
    "for city in test_cities:\n",
    "    print(f\"Fetching data for {city}...\")\n",
    "    city_services = get_services(api_key, f\"{city}, Italy\", service_type)\n",
    "    test_services = pd.concat([test_services, city_services], ignore_index=True)"
   ]
  }
 ],
 "metadata": {
  "kernelspec": {
   "display_name": "py_env",
   "language": "python",
   "name": "python3"
  },
  "language_info": {
   "codemirror_mode": {
    "name": "ipython",
    "version": 3
   },
   "file_extension": ".py",
   "mimetype": "text/x-python",
   "name": "python",
   "nbconvert_exporter": "python",
   "pygments_lexer": "ipython3",
   "version": "3.8.18"
  }
 },
 "nbformat": 4,
 "nbformat_minor": 2
}
