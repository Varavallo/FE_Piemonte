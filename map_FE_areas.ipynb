{
 "cells": [
  {
   "cell_type": "code",
   "execution_count": null,
   "metadata": {},
   "outputs": [],
   "source": [
    "# Definizione del dizionario di mappatura\n",
    "category_mapping = {\n",
    "    'Material Services': {\n",
    "        'Food Access': ['grocery_or_supermarket', 'supermarket', 'food', 'bakery'],\n",
    "        'Civic Infrastructure': ['local_government_office', 'city_hall', 'police', 'fire_station',\n",
    "                                 'post_office', 'courthouse', 'locality', 'political', 'sublocality', 'sublocality_level_1'],\n",
    "        'Transportation': ['bus_station', 'transit_station', 'airport', 'parking'],\n",
    "        'Bank and Postal Services': ['bank', 'atm', 'finance']\n",
    "    },\n",
    "    'Providential Services': {\n",
    "        'Health and Medicine': ['hospital', 'pharmacy', 'doctor', 'dentist', 'veterinary_care'],\n",
    "        'Education': ['school', 'primary_school', 'university'],\n",
    "        'Social Hubs & Public Spaces': ['park', 'library', 'museum', 'place_of_worship', 'church', 'bar', 'cafe',\n",
    "                                        'community_center', 'social_service', 'amusement_park', 'zoo', 'campground', 'rv_park']\n",
    "    },\n",
    "    'Overlooked Economy': {\n",
    "        'Cultural Necessities': ['night_club', 'spa', 'movie_theater', 'tourist_attraction', 'restaurant',\n",
    "                                 'travel_agency', 'hair_care', 'beauty_salon', 'casino', 'lodging']\n",
    "    },\n",
    "    'Tradeable Economy': {\n",
    "        'Aspirational Private Purchases': ['car_dealer', 'car_rental', 'car_repair', 'gas_station', 'electronics_store',\n",
    "                                           'meal_takeaway', 'furniture_store', 'home_goods_store', 'clothing_store', 'jewelry_store',\n",
    "                                           'shoe_store', 'book_store', 'bicycle_store', 'drugstore', 'hardware_store',\n",
    "                                           'general_contractor', 'meal_delivery', 'moving_company', 'storage', 'insurance_agency',\n",
    "                                           'accounting', 'laundry', 'car_wash', 'liquor_store', 'locksmith', 'painter',\n",
    "                                           'florist', 'real_estate_agency', 'funeral_home', 'electrician', 'plumber']\n",
    "    }\n",
    "}\n",
    "\n",
    "# Creazione di nuove colonne per ogni sottocategoria e calcolo dei conteggi\n",
    "for main_category, subcategories in category_mapping.items():\n",
    "    data[main_category] = 0  # Inizializzazione della colonna della categoria principale\n",
    "    for subcategory, types in subcategories.items():\n",
    "        # Creazione di una colonna per la sottocategoria che conteggia il numero di corrispondenze dei tipi\n",
    "        data[subcategory] = data['types'].apply(lambda x: sum(type in x for type in types))\n",
    "        # Aggiunta dei conteggi della sottocategoria alla categoria principale\n",
    "        data[main_category] += data[subcategory]\n",
    "\n",
    "# Salva il file modificato se necessario\n",
    "#data.to_excel('path_to_save/Marginal_Cuneo_Modified.xlsx')  # Sostituisci con il percorso desiderato per salvare il file modificato\n",
    "\n",
    "# Visualizza un estratto dei risultati per confermare le operazioni\n",
    "print(data[['Material Services', 'Food Access', 'Civic Infrastructure', 'Transportation', 'Bank and Postal Services',\n",
    "            'Providential Services', 'Health and Medicine', 'Education', 'Social Hubs & Public Spaces',\n",
    "            'Overlooked Economy', 'Cultural Necessities', 'Tradeable Economy', 'Aspirational Private Purchases']].head())"
   ]
  },
  {
   "cell_type": "code",
   "execution_count": null,
   "metadata": {},
   "outputs": [],
   "source": []
  }
 ],
 "metadata": {
  "language_info": {
   "name": "python"
  }
 },
 "nbformat": 4,
 "nbformat_minor": 2
}
